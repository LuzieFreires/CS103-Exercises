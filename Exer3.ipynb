{
 "cells": [
  {
   "cell_type": "code",
   "execution_count": 63,
   "id": "33b31025",
   "metadata": {},
   "outputs": [],
   "source": [
    "# 1) EDA processes\n",
    "# a. Import Libraries\n",
    "\n",
    "import pandas as pd\n",
    "import matplotlib.pyplot as plt"
   ]
  },
  {
   "cell_type": "code",
   "execution_count": 64,
   "id": "0b914c44",
   "metadata": {},
   "outputs": [],
   "source": [
    "# b. Loading the Data\n",
    "\n",
    "salary = pd.read_csv(\"salary_data.csv\")"
   ]
  },
  {
   "cell_type": "code",
   "execution_count": 65,
   "id": "e774470a",
   "metadata": {},
   "outputs": [
    {
     "data": {
      "text/html": [
       "<div>\n",
       "<style scoped>\n",
       "    .dataframe tbody tr th:only-of-type {\n",
       "        vertical-align: middle;\n",
       "    }\n",
       "\n",
       "    .dataframe tbody tr th {\n",
       "        vertical-align: top;\n",
       "    }\n",
       "\n",
       "    .dataframe thead th {\n",
       "        text-align: right;\n",
       "    }\n",
       "</style>\n",
       "<table border=\"1\" class=\"dataframe\">\n",
       "  <thead>\n",
       "    <tr style=\"text-align: right;\">\n",
       "      <th></th>\n",
       "      <th>Working_Year</th>\n",
       "      <th>Designation</th>\n",
       "      <th>Experience</th>\n",
       "      <th>Employment_Status</th>\n",
       "      <th>Employee_Location</th>\n",
       "      <th>Company_Size</th>\n",
       "      <th>Remote_Working_Ratio</th>\n",
       "      <th>Salary_USD</th>\n",
       "    </tr>\n",
       "  </thead>\n",
       "  <tbody>\n",
       "    <tr>\n",
       "      <th>0</th>\n",
       "      <td>2020.0</td>\n",
       "      <td>Data Scientist</td>\n",
       "      <td>Mid</td>\n",
       "      <td>FT</td>\n",
       "      <td>DE</td>\n",
       "      <td>L</td>\n",
       "      <td>0.0</td>\n",
       "      <td>76227.0</td>\n",
       "    </tr>\n",
       "    <tr>\n",
       "      <th>1</th>\n",
       "      <td>2020.0</td>\n",
       "      <td>Machine Learning Scientist</td>\n",
       "      <td>Senior</td>\n",
       "      <td>FT</td>\n",
       "      <td>JP</td>\n",
       "      <td>S</td>\n",
       "      <td>0.0</td>\n",
       "      <td>248257.0</td>\n",
       "    </tr>\n",
       "    <tr>\n",
       "      <th>2</th>\n",
       "      <td>2020.0</td>\n",
       "      <td>Big Data Engineer</td>\n",
       "      <td>Senior</td>\n",
       "      <td>FT</td>\n",
       "      <td>GB</td>\n",
       "      <td>M</td>\n",
       "      <td>50.0</td>\n",
       "      <td>104100.0</td>\n",
       "    </tr>\n",
       "    <tr>\n",
       "      <th>3</th>\n",
       "      <td>2020.0</td>\n",
       "      <td>Product Data Analyst</td>\n",
       "      <td>Mid</td>\n",
       "      <td>FT</td>\n",
       "      <td>HN</td>\n",
       "      <td>S</td>\n",
       "      <td>0.0</td>\n",
       "      <td>19097.0</td>\n",
       "    </tr>\n",
       "    <tr>\n",
       "      <th>4</th>\n",
       "      <td>2020.0</td>\n",
       "      <td>Machine Learning Engineer</td>\n",
       "      <td>Senior</td>\n",
       "      <td>FT</td>\n",
       "      <td>US</td>\n",
       "      <td>L</td>\n",
       "      <td>50.0</td>\n",
       "      <td>143225.0</td>\n",
       "    </tr>\n",
       "  </tbody>\n",
       "</table>\n",
       "</div>"
      ],
      "text/plain": [
       "   Working_Year                 Designation Experience Employment_Status  \\\n",
       "0        2020.0              Data Scientist        Mid                FT   \n",
       "1        2020.0  Machine Learning Scientist     Senior                FT   \n",
       "2        2020.0           Big Data Engineer     Senior                FT   \n",
       "3        2020.0        Product Data Analyst        Mid                FT   \n",
       "4        2020.0   Machine Learning Engineer     Senior                FT   \n",
       "\n",
       "  Employee_Location Company_Size  Remote_Working_Ratio  Salary_USD  \n",
       "0                DE            L                   0.0     76227.0  \n",
       "1                JP            S                   0.0    248257.0  \n",
       "2                GB            M                  50.0    104100.0  \n",
       "3                HN            S                   0.0     19097.0  \n",
       "4                US            L                  50.0    143225.0  "
      ]
     },
     "execution_count": 65,
     "metadata": {},
     "output_type": "execute_result"
    }
   ],
   "source": [
    "# c. Checking the first 5 rows\n",
    "\n",
    "salary.head()"
   ]
  },
  {
   "cell_type": "code",
   "execution_count": 66,
   "id": "383d29c1",
   "metadata": {},
   "outputs": [
    {
     "name": "stdout",
     "output_type": "stream",
     "text": [
      "<class 'pandas.core.frame.DataFrame'>\n",
      "RangeIndex: 610 entries, 0 to 609\n",
      "Data columns (total 8 columns):\n",
      " #   Column                Non-Null Count  Dtype  \n",
      "---  ------                --------------  -----  \n",
      " 0   Working_Year          607 non-null    float64\n",
      " 1   Designation           600 non-null    object \n",
      " 2   Experience            592 non-null    object \n",
      " 3   Employment_Status     579 non-null    object \n",
      " 4   Employee_Location     567 non-null    object \n",
      " 5   Company_Size          602 non-null    object \n",
      " 6   Remote_Working_Ratio  603 non-null    float64\n",
      " 7   Salary_USD            598 non-null    float64\n",
      "dtypes: float64(3), object(5)\n",
      "memory usage: 38.3+ KB\n"
     ]
    }
   ],
   "source": [
    "# d. Check the information\n",
    "\n",
    "salary.info()\n"
   ]
  },
  {
   "cell_type": "code",
   "execution_count": 67,
   "id": "8671d8e3",
   "metadata": {},
   "outputs": [
    {
     "data": {
      "text/plain": [
       "Designation\n",
       "Data Scientist                              140\n",
       "Data Engineer                               131\n",
       "Data Analyst                                 96\n",
       "Machine Learning Engineer                    41\n",
       "Research Scientist                           16\n",
       "Data Science Manager                         12\n",
       "Data Architect                               11\n",
       "Big Data Engineer                             8\n",
       "Machine Learning Scientist                    8\n",
       "AI Scientist                                  7\n",
       "Principal Data Scientist                      7\n",
       "Data Science Consultant                       7\n",
       "Data Analytics Manager                        7\n",
       "Director of Data Science                      7\n",
       "BI Data Analyst                               6\n",
       "ML Engineer                                   6\n",
       "Lead Data Engineer                            6\n",
       "Computer Vision Engineer                      6\n",
       "Business Data Analyst                         5\n",
       "Applied Data Scientist                        5\n",
       "Head of Data                                  5\n",
       "Data Engineering Manager                      5\n",
       "Head of Data Science                          4\n",
       "Applied Machine Learning Scientist            4\n",
       "Analytics Engineer                            4\n",
       "Data Analytics Engineer                       4\n",
       "Computer Vision Software Engineer             3\n",
       "Lead Data Scientist                           3\n",
       "Lead Data Analyst                             3\n",
       "Machine Learning Developer                    3\n",
       "Machine Learning Infrastructure Engineer      3\n",
       "Principal Data Engineer                       3\n",
       "Product Data Analyst                          2\n",
       "Cloud Data Engineer                           2\n",
       "Director of Data Engineering                  2\n",
       "ETL Developer                                 2\n",
       "Data Science Engineer                         2\n",
       "Financial Data Analyst                        2\n",
       "Principal Data Analyst                        2\n",
       "Machine Learning Manager                      1\n",
       "3D Computer Vision Researcher                 1\n",
       "Marketing Data Analyst                        1\n",
       "Data Specialist                               1\n",
       "Staff Data Scientist                          1\n",
       "Big Data Architect                            1\n",
       "Head of Machine Learning                      1\n",
       "NLP Engineer                                  1\n",
       "Lead Machine Learning Engineer                1\n",
       "Data Analytics Lead                           1\n",
       "Name: count, dtype: int64"
      ]
     },
     "execution_count": 67,
     "metadata": {},
     "output_type": "execute_result"
    }
   ],
   "source": [
    "# e. Count the value of the categorical data\n",
    "\n",
    "salary[\"Designation\"].value_counts()"
   ]
  },
  {
   "cell_type": "code",
   "execution_count": 68,
   "id": "54eb7703",
   "metadata": {},
   "outputs": [
    {
     "data": {
      "text/plain": [
       "Experience\n",
       "Senior       273\n",
       "Mid          210\n",
       "Entry         83\n",
       "Executive     26\n",
       "Name: count, dtype: int64"
      ]
     },
     "execution_count": 68,
     "metadata": {},
     "output_type": "execute_result"
    }
   ],
   "source": [
    "salary[\"Experience\"].value_counts()"
   ]
  },
  {
   "cell_type": "code",
   "execution_count": 69,
   "id": "2d0381c3",
   "metadata": {},
   "outputs": [
    {
     "data": {
      "text/plain": [
       "Employment_Status\n",
       "FT    561\n",
       "PT      9\n",
       "CT      5\n",
       "FL      4\n",
       "Name: count, dtype: int64"
      ]
     },
     "execution_count": 69,
     "metadata": {},
     "output_type": "execute_result"
    }
   ],
   "source": [
    "salary[\"Employment_Status\"].value_counts()"
   ]
  },
  {
   "cell_type": "code",
   "execution_count": 70,
   "id": "da4cc91d",
   "metadata": {},
   "outputs": [
    {
     "data": {
      "text/plain": [
       "Employee_Location\n",
       "US    308\n",
       "GB     40\n",
       "CA     28\n",
       "IN     27\n",
       "DE     23\n",
       "FR     18\n",
       "ES     15\n",
       "GR     12\n",
       "JP      7\n",
       "PT      6\n",
       "PK      6\n",
       "BR      6\n",
       "NL      5\n",
       "RU      4\n",
       "PL      4\n",
       "IT      4\n",
       "VN      3\n",
       "TR      3\n",
       "AU      3\n",
       "DK      2\n",
       "MX      2\n",
       "AT      2\n",
       "HU      2\n",
       "SI      2\n",
       "RO      2\n",
       "BE      2\n",
       "SG      2\n",
       "AE      2\n",
       "CN      1\n",
       "HN      1\n",
       "NZ      1\n",
       "PH      1\n",
       "NG      1\n",
       "MT      1\n",
       "CL      1\n",
       "IR      1\n",
       "UA      1\n",
       "IQ      1\n",
       "BG      1\n",
       "KE      1\n",
       "MD      1\n",
       "CO      1\n",
       "HK      1\n",
       "PR      1\n",
       "JE      1\n",
       "CZ      1\n",
       "RS      1\n",
       "AR      1\n",
       "DZ      1\n",
       "MY      1\n",
       "TN      1\n",
       "EE      1\n",
       "BO      1\n",
       "IE      1\n",
       "CH      1\n",
       "Name: count, dtype: int64"
      ]
     },
     "execution_count": 70,
     "metadata": {},
     "output_type": "execute_result"
    }
   ],
   "source": [
    "salary[\"Employee_Location\"].value_counts()"
   ]
  },
  {
   "cell_type": "code",
   "execution_count": 71,
   "id": "793f8b28",
   "metadata": {},
   "outputs": [
    {
     "data": {
      "text/plain": [
       "Company_Size\n",
       "M    326\n",
       "L    194\n",
       "S     82\n",
       "Name: count, dtype: int64"
      ]
     },
     "execution_count": 71,
     "metadata": {},
     "output_type": "execute_result"
    }
   ],
   "source": [
    "salary[\"Company_Size\"].value_counts()"
   ]
  },
  {
   "cell_type": "code",
   "execution_count": 72,
   "id": "e02eabd7",
   "metadata": {},
   "outputs": [
    {
     "data": {
      "text/html": [
       "<div>\n",
       "<style scoped>\n",
       "    .dataframe tbody tr th:only-of-type {\n",
       "        vertical-align: middle;\n",
       "    }\n",
       "\n",
       "    .dataframe tbody tr th {\n",
       "        vertical-align: top;\n",
       "    }\n",
       "\n",
       "    .dataframe thead th {\n",
       "        text-align: right;\n",
       "    }\n",
       "</style>\n",
       "<table border=\"1\" class=\"dataframe\">\n",
       "  <thead>\n",
       "    <tr style=\"text-align: right;\">\n",
       "      <th></th>\n",
       "      <th>Working_Year</th>\n",
       "      <th>Remote_Working_Ratio</th>\n",
       "      <th>Salary_USD</th>\n",
       "    </tr>\n",
       "  </thead>\n",
       "  <tbody>\n",
       "    <tr>\n",
       "      <th>count</th>\n",
       "      <td>607.000000</td>\n",
       "      <td>603.000000</td>\n",
       "      <td>598.000000</td>\n",
       "    </tr>\n",
       "    <tr>\n",
       "      <th>mean</th>\n",
       "      <td>2021.405272</td>\n",
       "      <td>70.729685</td>\n",
       "      <td>114379.140468</td>\n",
       "    </tr>\n",
       "    <tr>\n",
       "      <th>std</th>\n",
       "      <td>0.692133</td>\n",
       "      <td>40.774865</td>\n",
       "      <td>98496.025306</td>\n",
       "    </tr>\n",
       "    <tr>\n",
       "      <th>min</th>\n",
       "      <td>2020.000000</td>\n",
       "      <td>0.000000</td>\n",
       "      <td>300.000000</td>\n",
       "    </tr>\n",
       "    <tr>\n",
       "      <th>25%</th>\n",
       "      <td>2021.000000</td>\n",
       "      <td>50.000000</td>\n",
       "      <td>60074.000000</td>\n",
       "    </tr>\n",
       "    <tr>\n",
       "      <th>50%</th>\n",
       "      <td>2022.000000</td>\n",
       "      <td>100.000000</td>\n",
       "      <td>98271.000000</td>\n",
       "    </tr>\n",
       "    <tr>\n",
       "      <th>75%</th>\n",
       "      <td>2022.000000</td>\n",
       "      <td>100.000000</td>\n",
       "      <td>143225.000000</td>\n",
       "    </tr>\n",
       "    <tr>\n",
       "      <th>max</th>\n",
       "      <td>2022.000000</td>\n",
       "      <td>100.000000</td>\n",
       "      <td>800000.000000</td>\n",
       "    </tr>\n",
       "  </tbody>\n",
       "</table>\n",
       "</div>"
      ],
      "text/plain": [
       "       Working_Year  Remote_Working_Ratio     Salary_USD\n",
       "count    607.000000            603.000000     598.000000\n",
       "mean    2021.405272             70.729685  114379.140468\n",
       "std        0.692133             40.774865   98496.025306\n",
       "min     2020.000000              0.000000     300.000000\n",
       "25%     2021.000000             50.000000   60074.000000\n",
       "50%     2022.000000            100.000000   98271.000000\n",
       "75%     2022.000000            100.000000  143225.000000\n",
       "max     2022.000000            100.000000  800000.000000"
      ]
     },
     "execution_count": 72,
     "metadata": {},
     "output_type": "execute_result"
    }
   ],
   "source": [
    "# d. Describe the data\n",
    "\n",
    "salary.describe()"
   ]
  },
  {
   "cell_type": "code",
   "execution_count": 73,
   "id": "b48ceb61",
   "metadata": {},
   "outputs": [
    {
     "name": "stdout",
     "output_type": "stream",
     "text": [
      "Experience\n",
      "Entry         58717.405063\n",
      "Executive    210539.760000\n",
      "Mid           88673.019231\n",
      "Senior       134918.273063\n",
      "Name: Salary_USD, dtype: float64\n"
     ]
    },
    {
     "data": {
      "image/png": "[encoded data removed]",
      "text/plain": [
       "<Figure size 640x480 with 1 Axes>"
      ]
     },
     "metadata": {},
     "output_type": "display_data"
    }
   ],
   "source": [
    "# 2. Visualize the salary by experience level.\n",
    "exp = salary.groupby(\"Experience\")[\"Salary_USD\"].mean()\n",
    "print(exp)\n",
    "\n",
    "exp.plot(kind=\"bar\")\n",
    "plt.title(\"Salary by Experience Level\")\n",
    "plt.xlabel(\"Experience Level\")\n",
    "plt.ylabel(\"Salary by USD\")\n",
    "plt.tight_layout()\n",
    "plt.show()"
   ]
  },
  {
   "cell_type": "code",
   "execution_count": 74,
   "id": "c5d78b81",
   "metadata": {},
   "outputs": [
    {
     "data": {
      "image/png": "[encoded data removed]",
      "text/plain": [
       "<Figure size 640x480 with 1 Axes>"
      ]
     },
     "metadata": {},
     "output_type": "display_data"
    }
   ],
   "source": [
    "# 3. Visualize the data using sub-group.\n",
    "\n",
    "salary.groupby([\"Experience\",\"Company_Size\"])[\"Salary_USD\"]\\\n",
    "     .mean().unstack().plot(kind=\"bar\")\n",
    "plt.title(\"Average Salary by Experience and Company Size\")\n",
    "plt.xlabel(\"Experience Level\")\n",
    "plt.ylabel(\"Average Salary\")\n",
    "plt.tight_layout()\n",
    "plt.show()\n"
   ]
  },
  {
   "cell_type": "code",
   "execution_count": 75,
   "id": "e951111f",
   "metadata": {},
   "outputs": [
    {
     "data": {
      "text/plain": [
       "Working_Year             3\n",
       "Designation             10\n",
       "Experience              18\n",
       "Employment_Status       31\n",
       "Employee_Location       43\n",
       "Company_Size             8\n",
       "Remote_Working_Ratio     7\n",
       "Salary_USD              12\n",
       "dtype: int64"
      ]
     },
     "execution_count": 75,
     "metadata": {},
     "output_type": "execute_result"
    }
   ],
   "source": [
    "# 4. Count the missing values.\n",
    "salary.isna().sum()"
   ]
  },
  {
   "cell_type": "code",
   "execution_count": 83,
   "id": "3e99c4ab",
   "metadata": {},
   "outputs": [
    {
     "name": "stdout",
     "output_type": "stream",
     "text": [
      "28.35\n",
      "Index(['Working_Year', 'Designation', 'Experience', 'Employment_Status',\n",
      "       'Company_Size', 'Remote_Working_Ratio', 'Salary_USD'],\n",
      "      dtype='object')\n"
     ]
    }
   ],
   "source": [
    "#5. Drop the missing values.\n",
    "threshold = len(salary) * 0.05\n",
    "print(threshold)\n",
    "\n",
    "dropcols = salary.columns[salary.isna().sum() <= threshold]\n",
    "print(dropcols)\n",
    "\n",
    "salary.dropna(subset=dropcols, inplace=True)"
   ]
  },
  {
   "cell_type": "code",
   "execution_count": 84,
   "id": "e1198078",
   "metadata": {},
   "outputs": [
    {
     "name": "stdout",
     "output_type": "stream",
     "text": [
      "Index(['Employee_Location'], dtype='object')\n"
     ]
    }
   ],
   "source": [
    "# 6) Impute using the summary statistics.\n",
    "missingcols = salary.columns[salary.isna().sum() > 0]\n",
    "print(missingcols)"
   ]
  },
  {
   "cell_type": "code",
   "execution_count": null,
   "id": "244e6512",
   "metadata": {},
   "outputs": [],
   "source": [
    "for col in missingcols[:-1]:\n",
    "salary[col].fillna(salary[col].mode()[0], inplace=True)"
   ]
  },
  {
   "cell_type": "code",
   "execution_count": 86,
   "id": "64f99f64",
   "metadata": {},
   "outputs": [
    {
     "data": {
      "text/plain": [
       "Working_Year             0\n",
       "Designation              0\n",
       "Experience               0\n",
       "Employment_Status        0\n",
       "Employee_Location       34\n",
       "Company_Size             0\n",
       "Remote_Working_Ratio     0\n",
       "Salary_USD               0\n",
       "dtype: int64"
      ]
     },
     "execution_count": 86,
     "metadata": {},
     "output_type": "execute_result"
    }
   ],
   "source": [
    "salary.isna().sum()"
   ]
  },
  {
   "cell_type": "code",
   "execution_count": 87,
   "id": "7539705a",
   "metadata": {},
   "outputs": [
    {
     "name": "stdout",
     "output_type": "stream",
     "text": [
      "{'Entry': 55380.0, 'Executive': 167096.0, 'Mid': 71613.0, 'Senior': 129857.0}\n"
     ]
    }
   ],
   "source": [
    "#7. Impute by sub-group.\n",
    "salaries = salary.groupby(\"Experience\")[\"Salary_USD\"].median().to_dict()\n",
    "print(salaries)"
   ]
  },
  {
   "cell_type": "code",
   "execution_count": 88,
   "id": "bf353936",
   "metadata": {},
   "outputs": [],
   "source": [
    "salary[\"Salary_USD\"] = salary[\"Salary_USD\"].fillna(salary[\"Experience\"].map(salaries))"
   ]
  },
  {
   "cell_type": "code",
   "execution_count": 89,
   "id": "7e19c86f",
   "metadata": {},
   "outputs": [
    {
     "data": {
      "text/plain": [
       "Working_Year             0\n",
       "Designation              0\n",
       "Experience               0\n",
       "Employment_Status        0\n",
       "Employee_Location       34\n",
       "Company_Size             0\n",
       "Remote_Working_Ratio     0\n",
       "Salary_USD               0\n",
       "dtype: int64"
      ]
     },
     "execution_count": 89,
     "metadata": {},
     "output_type": "execute_result"
    }
   ],
   "source": [
    "salary.isna().sum()"
   ]
  }
 ],
 "metadata": {
  "kernelspec": {
   "display_name": "Python 3",
   "language": "python",
   "name": "python3"
  },
  "language_info": {
   "codemirror_mode": {
    "name": "ipython",
    "version": 3
   },
   "file_extension": ".py",
   "mimetype": "text/x-python",
   "name": "python",
   "nbconvert_exporter": "python",
   "pygments_lexer": "ipython3",
   "version": "3.13.7"
  }
 },
 "nbformat": 4,
 "nbformat_minor": 5
}
